{
 "cells": [
  {
   "cell_type": "markdown",
   "metadata": {},
   "source": [
    "## Code of Conduct\n",
    "This project has adopted the [Amazon Open Source Code of Conduct](https://aws.github.io/code-of-conduct). \n",
    "For more information see the [Code of Conduct FAQ](https://aws.github.io/code-of-conduct-faq) or contact \n",
    "opensource-codeofconduct@amazon.com with any additional questions or comments."
   ]
  }
 ],
 "metadata": {
  "language_info": {
   "name": "python"
  }
 },
 "nbformat": 4,
 "nbformat_minor": 2
}